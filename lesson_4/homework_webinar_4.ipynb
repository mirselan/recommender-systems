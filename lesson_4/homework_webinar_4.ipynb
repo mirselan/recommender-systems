{
  "nbformat": 4,
  "nbformat_minor": 0,
  "metadata": {
    "colab": {
      "name": "homework_webinar_4.ipynb",
      "provenance": []
    },
    "kernelspec": {
      "name": "python3",
      "display_name": "Python 3"
    },
    "language_info": {
      "name": "python"
    }
  },
  "cells": [
    {
      "cell_type": "markdown",
      "source": [
        "# Вебинар 4. Домашнее задание"
      ],
      "metadata": {
        "id": "NpILZBAc25WY"
      }
    },
    {
      "cell_type": "markdown",
      "source": [
        "Проверка, что все работает:"
      ],
      "metadata": {
        "id": "gorSdTsG3Jxz"
      }
    },
    {
      "cell_type": "code",
      "execution_count": 6,
      "metadata": {
        "id": "4ip8H0H621We"
      },
      "outputs": [],
      "source": [
        "from src.metrics import precision_at_k, recall_at_k\n",
        "from src.utils import prefilter_items\n",
        "from src.recommenders import MainRecommender"
      ]
    }
  ]
}