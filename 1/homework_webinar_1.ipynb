{
  "cells": [
    {
      "cell_type": "markdown",
      "metadata": {
        "id": "89mFQmjdo1gZ"
      },
      "source": [
        "# Вебинар 1. Введение, примеры задач, бизнес- и ML-метрики "
      ]
    },
    {
      "cell_type": "markdown",
      "metadata": {
        "id": "R1pUftRN1f5f"
      },
      "source": [
        " <img src='topic.png'>\n"
      ]
    },
    {
      "cell_type": "markdown",
      "metadata": {
        "id": "kWkvg66g1f5i"
      },
      "source": [
        "# About me"
      ]
    },
    {
      "cell_type": "markdown",
      "metadata": {
        "id": "aRFt1WAs1f5k"
      },
      "source": [
        "<a href=\"http://arudnitskiy.ru/\">Read here</a>"
      ]
    },
    {
      "cell_type": "markdown",
      "metadata": {
        "id": "-PTXLVlX1f5m"
      },
      "source": [
        "<img src='about_me.png'>"
      ]
    },
    {
      "cell_type": "markdown",
      "metadata": {
        "id": "sLi8Tmk81f5n"
      },
      "source": [
        "<img src='structure.png'>"
      ]
    },
    {
      "cell_type": "markdown",
      "metadata": {
        "id": "uGCdn1Qu1f5q"
      },
      "source": [
        "<img src='lesson_topic.png'>"
      ]
    },
    {
      "cell_type": "markdown",
      "metadata": {
        "id": "MJZwT8cSo1gi"
      },
      "source": [
        "-----"
      ]
    },
    {
      "cell_type": "markdown",
      "metadata": {
        "id": "R0sRGFuXo1gk"
      },
      "source": [
        "# 1. Введение и примеры задач"
      ]
    },
    {
      "cell_type": "markdown",
      "metadata": {
        "id": "9qZt-QYrNqiM"
      },
      "source": [
        "<img src='recsys_everywhere.png'>\n"
      ]
    },
    {
      "cell_type": "markdown",
      "metadata": {
        "id": "Wvs4ACKHo1go"
      },
      "source": [
        "----"
      ]
    },
    {
      "cell_type": "markdown",
      "metadata": {
        "id": "9tqAoRy71f52"
      },
      "source": [
        "<img src='skills.png'>"
      ]
    },
    {
      "cell_type": "markdown",
      "metadata": {
        "id": "p4hQIpZ6o1gr"
      },
      "source": [
        "---"
      ]
    },
    {
      "cell_type": "markdown",
      "metadata": {
        "id": "EC6MY2VHo1gs"
      },
      "source": [
        "##  Постановка задачи\n",
        "\n",
        "*Задача рекомендаций* - предложить пользователю товары, которые ему \"понравятся\"\n",
        "\n",
        "Компоненты:\n",
        "    - Пользователи (users)\n",
        "    - Товары (items)\n",
        "    - Взаимодействия (interactions) - по ним понимаем, что товар \"понравился\""
      ]
    },
    {
      "cell_type": "markdown",
      "metadata": {
        "id": "9vjcDtI4o1gt"
      },
      "source": [
        "---"
      ]
    },
    {
      "cell_type": "markdown",
      "metadata": {
        "id": "F4lSmxSIo1g4"
      },
      "source": [
        "## Пользователи VS Товары\n",
        "\n",
        "<img src='ex_user_items.png'>\n"
      ]
    },
    {
      "cell_type": "markdown",
      "metadata": {
        "id": "xQCfDa7Ro1g6"
      },
      "source": [
        "**Кейс**: определить в каждой ситуации, что является пользователем, а что - товаром\n",
        "    \n",
        "    1. На сайте Кинопоиска порекомендовать интересные фильмы\n",
        "    2. На сайте hh.ru подобрать лучшие вакансии для соискателя вакансий\n",
        "    3. На сайте hh.ru найти похожие вакансии на ту, которую сейчас просматривает пользователь (\"вам также может понравиться\")\n",
        "    4. На сайте hh.ru подобрать лучших кандидатов для работодателя\n",
        "    \n",
        "*Пример ответа в чате:*\n",
        "    1. Пользователь (П) - фильм, Товар (T) - фильм\n",
        "    2. Т - работодатель, П - соискатель вакансий"
      ]
    },
    {
      "cell_type": "markdown",
      "metadata": {
        "id": "6XvwnlkTo1g7"
      },
      "source": [
        "---"
      ]
    },
    {
      "cell_type": "markdown",
      "metadata": {
        "id": "hTptz8fIo1g8"
      },
      "source": [
        "## Взаимодействия --> \"понравился товар\"\n",
        "\n",
        "<img src='ex_interactions.png'>"
      ]
    },
    {
      "cell_type": "markdown",
      "metadata": {
        "id": "trQ6RNEto1g9"
      },
      "source": [
        "---"
      ]
    },
    {
      "cell_type": "markdown",
      "metadata": {
        "id": "gyYgtrV3o1g-"
      },
      "source": [
        "## В чем отличие от классификации?"
      ]
    },
    {
      "cell_type": "code",
      "execution_count": null,
      "metadata": {
        "id": "MDr2G6YIo1g_"
      },
      "outputs": [],
      "source": [
        "import pandas as pd\n",
        "import numpy as np"
      ]
    },
    {
      "cell_type": "code",
      "execution_count": null,
      "metadata": {
        "id": "5NPXqJeco1hH",
        "outputId": "8c46ccc5-1488-4ca7-e90d-2740b5eff073",
        "colab": {
          "base_uri": "https://localhost:8080/",
          "height": 143
        }
      },
      "outputs": [
        {
          "output_type": "execute_result",
          "data": {
            "text/plain": [
              "      user              item  purchase_fact\n",
              "0     Иван  Хлеб Бородинский              1\n",
              "1     Иван        Хлеб Белый              0\n",
              "2  Василий      Йогурт Epica              1"
            ],
            "text/html": [
              "\n",
              "  <div id=\"df-0f256a7c-c946-4f16-b08b-331322391bb3\">\n",
              "    <div class=\"colab-df-container\">\n",
              "      <div>\n",
              "<style scoped>\n",
              "    .dataframe tbody tr th:only-of-type {\n",
              "        vertical-align: middle;\n",
              "    }\n",
              "\n",
              "    .dataframe tbody tr th {\n",
              "        vertical-align: top;\n",
              "    }\n",
              "\n",
              "    .dataframe thead th {\n",
              "        text-align: right;\n",
              "    }\n",
              "</style>\n",
              "<table border=\"1\" class=\"dataframe\">\n",
              "  <thead>\n",
              "    <tr style=\"text-align: right;\">\n",
              "      <th></th>\n",
              "      <th>user</th>\n",
              "      <th>item</th>\n",
              "      <th>purchase_fact</th>\n",
              "    </tr>\n",
              "  </thead>\n",
              "  <tbody>\n",
              "    <tr>\n",
              "      <th>0</th>\n",
              "      <td>Иван</td>\n",
              "      <td>Хлеб Бородинский</td>\n",
              "      <td>1</td>\n",
              "    </tr>\n",
              "    <tr>\n",
              "      <th>1</th>\n",
              "      <td>Иван</td>\n",
              "      <td>Хлеб Белый</td>\n",
              "      <td>0</td>\n",
              "    </tr>\n",
              "    <tr>\n",
              "      <th>2</th>\n",
              "      <td>Василий</td>\n",
              "      <td>Йогурт Epica</td>\n",
              "      <td>1</td>\n",
              "    </tr>\n",
              "  </tbody>\n",
              "</table>\n",
              "</div>\n",
              "      <button class=\"colab-df-convert\" onclick=\"convertToInteractive('df-0f256a7c-c946-4f16-b08b-331322391bb3')\"\n",
              "              title=\"Convert this dataframe to an interactive table.\"\n",
              "              style=\"display:none;\">\n",
              "        \n",
              "  <svg xmlns=\"http://www.w3.org/2000/svg\" height=\"24px\"viewBox=\"0 0 24 24\"\n",
              "       width=\"24px\">\n",
              "    <path d=\"M0 0h24v24H0V0z\" fill=\"none\"/>\n",
              "    <path d=\"M18.56 5.44l.94 2.06.94-2.06 2.06-.94-2.06-.94-.94-2.06-.94 2.06-2.06.94zm-11 1L8.5 8.5l.94-2.06 2.06-.94-2.06-.94L8.5 2.5l-.94 2.06-2.06.94zm10 10l.94 2.06.94-2.06 2.06-.94-2.06-.94-.94-2.06-.94 2.06-2.06.94z\"/><path d=\"M17.41 7.96l-1.37-1.37c-.4-.4-.92-.59-1.43-.59-.52 0-1.04.2-1.43.59L10.3 9.45l-7.72 7.72c-.78.78-.78 2.05 0 2.83L4 21.41c.39.39.9.59 1.41.59.51 0 1.02-.2 1.41-.59l7.78-7.78 2.81-2.81c.8-.78.8-2.07 0-2.86zM5.41 20L4 18.59l7.72-7.72 1.47 1.35L5.41 20z\"/>\n",
              "  </svg>\n",
              "      </button>\n",
              "      \n",
              "  <style>\n",
              "    .colab-df-container {\n",
              "      display:flex;\n",
              "      flex-wrap:wrap;\n",
              "      gap: 12px;\n",
              "    }\n",
              "\n",
              "    .colab-df-convert {\n",
              "      background-color: #E8F0FE;\n",
              "      border: none;\n",
              "      border-radius: 50%;\n",
              "      cursor: pointer;\n",
              "      display: none;\n",
              "      fill: #1967D2;\n",
              "      height: 32px;\n",
              "      padding: 0 0 0 0;\n",
              "      width: 32px;\n",
              "    }\n",
              "\n",
              "    .colab-df-convert:hover {\n",
              "      background-color: #E2EBFA;\n",
              "      box-shadow: 0px 1px 2px rgba(60, 64, 67, 0.3), 0px 1px 3px 1px rgba(60, 64, 67, 0.15);\n",
              "      fill: #174EA6;\n",
              "    }\n",
              "\n",
              "    [theme=dark] .colab-df-convert {\n",
              "      background-color: #3B4455;\n",
              "      fill: #D2E3FC;\n",
              "    }\n",
              "\n",
              "    [theme=dark] .colab-df-convert:hover {\n",
              "      background-color: #434B5C;\n",
              "      box-shadow: 0px 1px 3px 1px rgba(0, 0, 0, 0.15);\n",
              "      filter: drop-shadow(0px 1px 2px rgba(0, 0, 0, 0.3));\n",
              "      fill: #FFFFFF;\n",
              "    }\n",
              "  </style>\n",
              "\n",
              "      <script>\n",
              "        const buttonEl =\n",
              "          document.querySelector('#df-0f256a7c-c946-4f16-b08b-331322391bb3 button.colab-df-convert');\n",
              "        buttonEl.style.display =\n",
              "          google.colab.kernel.accessAllowed ? 'block' : 'none';\n",
              "\n",
              "        async function convertToInteractive(key) {\n",
              "          const element = document.querySelector('#df-0f256a7c-c946-4f16-b08b-331322391bb3');\n",
              "          const dataTable =\n",
              "            await google.colab.kernel.invokeFunction('convertToInteractive',\n",
              "                                                     [key], {});\n",
              "          if (!dataTable) return;\n",
              "\n",
              "          const docLinkHtml = 'Like what you see? Visit the ' +\n",
              "            '<a target=\"_blank\" href=https://colab.research.google.com/notebooks/data_table.ipynb>data table notebook</a>'\n",
              "            + ' to learn more about interactive tables.';\n",
              "          element.innerHTML = '';\n",
              "          dataTable['output_type'] = 'display_data';\n",
              "          await google.colab.output.renderOutput(dataTable, element);\n",
              "          const docLink = document.createElement('div');\n",
              "          docLink.innerHTML = docLinkHtml;\n",
              "          element.appendChild(docLink);\n",
              "        }\n",
              "      </script>\n",
              "    </div>\n",
              "  </div>\n",
              "  "
            ]
          },
          "metadata": {},
          "execution_count": 2
        }
      ],
      "source": [
        "pd.DataFrame([['Иван', 'Хлеб Бородинский', 1],\n",
        "             ['Иван', 'Хлеб Белый', 0],\n",
        "             ['Василий', 'Йогурт Epica', 1]], columns=['user', 'item', 'purchase_fact'])"
      ]
    },
    {
      "cell_type": "markdown",
      "metadata": {
        "id": "qpT9cc8Ao1hP"
      },
      "source": [
        "Постойте, ведь можно добавить фичи на user (средний чек, кол-во покупок в категориях и т.д), \n",
        "на item (цена, кол-во продаж в неделю и т.l), и решать задачу классификации. В чем отличие RecSys от классификации?\n",
        "\n",
        " - Много предсказаний для 1 user (extreme classification)\n",
        " - Гораздо больший объем данных: 100K users, 10K items --> 1B предсказаний\n",
        " - Большинство товаров user никогда не видел --> Не взаимодействовал --> 0 не значит \"не понравился\"\n",
        " - Нет явного таргета. Не понятно, что значит \"(не) понравился\"\n",
        " - Feedback loop\n",
        " - Всегда важен порядок рекомендаций"
      ]
    },
    {
      "cell_type": "code",
      "execution_count": null,
      "metadata": {
        "id": "PI5Vw8z9o1hQ",
        "outputId": "3a9c2526-e2ea-458f-b07a-8dca67265ba4",
        "colab": {
          "base_uri": "https://localhost:8080/",
          "height": 237
        }
      },
      "outputs": [
        {
          "output_type": "execute_result",
          "data": {
            "text/plain": [
              "      user              item purchase_fact\n",
              "0     Иван  Хлеб Бородинский             1\n",
              "1     Иван        Хлеб Белый             0\n",
              "2     Иван      Йогурт Epica             ?\n",
              "3  Василий  Хлеб Бородинский             ?\n",
              "4  Василий        Хлеб Белый             ?\n",
              "5  Василий      Йогурт Epica             1"
            ],
            "text/html": [
              "\n",
              "  <div id=\"df-01a8d405-3f65-4582-8dc0-4ec0b7bb21dd\">\n",
              "    <div class=\"colab-df-container\">\n",
              "      <div>\n",
              "<style scoped>\n",
              "    .dataframe tbody tr th:only-of-type {\n",
              "        vertical-align: middle;\n",
              "    }\n",
              "\n",
              "    .dataframe tbody tr th {\n",
              "        vertical-align: top;\n",
              "    }\n",
              "\n",
              "    .dataframe thead th {\n",
              "        text-align: right;\n",
              "    }\n",
              "</style>\n",
              "<table border=\"1\" class=\"dataframe\">\n",
              "  <thead>\n",
              "    <tr style=\"text-align: right;\">\n",
              "      <th></th>\n",
              "      <th>user</th>\n",
              "      <th>item</th>\n",
              "      <th>purchase_fact</th>\n",
              "    </tr>\n",
              "  </thead>\n",
              "  <tbody>\n",
              "    <tr>\n",
              "      <th>0</th>\n",
              "      <td>Иван</td>\n",
              "      <td>Хлеб Бородинский</td>\n",
              "      <td>1</td>\n",
              "    </tr>\n",
              "    <tr>\n",
              "      <th>1</th>\n",
              "      <td>Иван</td>\n",
              "      <td>Хлеб Белый</td>\n",
              "      <td>0</td>\n",
              "    </tr>\n",
              "    <tr>\n",
              "      <th>2</th>\n",
              "      <td>Иван</td>\n",
              "      <td>Йогурт Epica</td>\n",
              "      <td>?</td>\n",
              "    </tr>\n",
              "    <tr>\n",
              "      <th>3</th>\n",
              "      <td>Василий</td>\n",
              "      <td>Хлеб Бородинский</td>\n",
              "      <td>?</td>\n",
              "    </tr>\n",
              "    <tr>\n",
              "      <th>4</th>\n",
              "      <td>Василий</td>\n",
              "      <td>Хлеб Белый</td>\n",
              "      <td>?</td>\n",
              "    </tr>\n",
              "    <tr>\n",
              "      <th>5</th>\n",
              "      <td>Василий</td>\n",
              "      <td>Йогурт Epica</td>\n",
              "      <td>1</td>\n",
              "    </tr>\n",
              "  </tbody>\n",
              "</table>\n",
              "</div>\n",
              "      <button class=\"colab-df-convert\" onclick=\"convertToInteractive('df-01a8d405-3f65-4582-8dc0-4ec0b7bb21dd')\"\n",
              "              title=\"Convert this dataframe to an interactive table.\"\n",
              "              style=\"display:none;\">\n",
              "        \n",
              "  <svg xmlns=\"http://www.w3.org/2000/svg\" height=\"24px\"viewBox=\"0 0 24 24\"\n",
              "       width=\"24px\">\n",
              "    <path d=\"M0 0h24v24H0V0z\" fill=\"none\"/>\n",
              "    <path d=\"M18.56 5.44l.94 2.06.94-2.06 2.06-.94-2.06-.94-.94-2.06-.94 2.06-2.06.94zm-11 1L8.5 8.5l.94-2.06 2.06-.94-2.06-.94L8.5 2.5l-.94 2.06-2.06.94zm10 10l.94 2.06.94-2.06 2.06-.94-2.06-.94-.94-2.06-.94 2.06-2.06.94z\"/><path d=\"M17.41 7.96l-1.37-1.37c-.4-.4-.92-.59-1.43-.59-.52 0-1.04.2-1.43.59L10.3 9.45l-7.72 7.72c-.78.78-.78 2.05 0 2.83L4 21.41c.39.39.9.59 1.41.59.51 0 1.02-.2 1.41-.59l7.78-7.78 2.81-2.81c.8-.78.8-2.07 0-2.86zM5.41 20L4 18.59l7.72-7.72 1.47 1.35L5.41 20z\"/>\n",
              "  </svg>\n",
              "      </button>\n",
              "      \n",
              "  <style>\n",
              "    .colab-df-container {\n",
              "      display:flex;\n",
              "      flex-wrap:wrap;\n",
              "      gap: 12px;\n",
              "    }\n",
              "\n",
              "    .colab-df-convert {\n",
              "      background-color: #E8F0FE;\n",
              "      border: none;\n",
              "      border-radius: 50%;\n",
              "      cursor: pointer;\n",
              "      display: none;\n",
              "      fill: #1967D2;\n",
              "      height: 32px;\n",
              "      padding: 0 0 0 0;\n",
              "      width: 32px;\n",
              "    }\n",
              "\n",
              "    .colab-df-convert:hover {\n",
              "      background-color: #E2EBFA;\n",
              "      box-shadow: 0px 1px 2px rgba(60, 64, 67, 0.3), 0px 1px 3px 1px rgba(60, 64, 67, 0.15);\n",
              "      fill: #174EA6;\n",
              "    }\n",
              "\n",
              "    [theme=dark] .colab-df-convert {\n",
              "      background-color: #3B4455;\n",
              "      fill: #D2E3FC;\n",
              "    }\n",
              "\n",
              "    [theme=dark] .colab-df-convert:hover {\n",
              "      background-color: #434B5C;\n",
              "      box-shadow: 0px 1px 3px 1px rgba(0, 0, 0, 0.15);\n",
              "      filter: drop-shadow(0px 1px 2px rgba(0, 0, 0, 0.3));\n",
              "      fill: #FFFFFF;\n",
              "    }\n",
              "  </style>\n",
              "\n",
              "      <script>\n",
              "        const buttonEl =\n",
              "          document.querySelector('#df-01a8d405-3f65-4582-8dc0-4ec0b7bb21dd button.colab-df-convert');\n",
              "        buttonEl.style.display =\n",
              "          google.colab.kernel.accessAllowed ? 'block' : 'none';\n",
              "\n",
              "        async function convertToInteractive(key) {\n",
              "          const element = document.querySelector('#df-01a8d405-3f65-4582-8dc0-4ec0b7bb21dd');\n",
              "          const dataTable =\n",
              "            await google.colab.kernel.invokeFunction('convertToInteractive',\n",
              "                                                     [key], {});\n",
              "          if (!dataTable) return;\n",
              "\n",
              "          const docLinkHtml = 'Like what you see? Visit the ' +\n",
              "            '<a target=\"_blank\" href=https://colab.research.google.com/notebooks/data_table.ipynb>data table notebook</a>'\n",
              "            + ' to learn more about interactive tables.';\n",
              "          element.innerHTML = '';\n",
              "          dataTable['output_type'] = 'display_data';\n",
              "          await google.colab.output.renderOutput(dataTable, element);\n",
              "          const docLink = document.createElement('div');\n",
              "          docLink.innerHTML = docLinkHtml;\n",
              "          element.appendChild(docLink);\n",
              "        }\n",
              "      </script>\n",
              "    </div>\n",
              "  </div>\n",
              "  "
            ]
          },
          "metadata": {},
          "execution_count": 3
        }
      ],
      "source": [
        "pd.DataFrame([['Иван', 'Хлеб Бородинский', 1],\n",
        "              ['Иван', 'Хлеб Белый', 0],\n",
        "              ['Иван', 'Йогурт Epica', \"?\"],\n",
        "              ['Василий', 'Хлеб Бородинский', \"?\"],\n",
        "              ['Василий', 'Хлеб Белый', \"?\"],\n",
        "              ['Василий', 'Йогурт Epica', 1]], columns=['user', 'item', 'purchase_fact'])"
      ]
    },
    {
      "cell_type": "markdown",
      "metadata": {
        "id": "qjBbrZqIo1hX"
      },
      "source": [
        "----"
      ]
    },
    {
      "cell_type": "markdown",
      "metadata": {
        "id": "40b-1kBbo1hY"
      },
      "source": [
        "## Основные типы задач:\n",
        "    \n",
        "**Рекомендация топ-К товаров**: Дан список товаров. Рекомендовать пользователю K товаров, которые ему понравятся\n",
        "    - e-mail рассылки (М.Видео, Hoff, Пятерочка)\n",
        "    - push-уведомления (Delivery Club, HeadHunter, Виктория)\n",
        "    - Рекомендации в отдельном окне на сайте (vk, okko)\n",
        "\n",
        "**Ранжирование товаров**: Дан список товаров. Нужно его отранжировать в порядке убывания интереса для пользователя\n",
        "    - Ранжирование каталога товаров (Wildberries, Lamoda)\n",
        "    - Ранжирование ленты (vk, Я.Дзен)\n",
        "    - Ранжирование поисковой выдачи (Яндекс, Гугл)\n",
        "    - Ранжирование \"каруселей\" товаров (Delivery Club, Я.Еда)\n",
        "    \n",
        "**Поиск похожих товаров**: Дан 1 товар. Нужно найти наиболее похожие на него товары\n",
        "    - \"Вам также может понравиться\" (Ozon, Циан)\n",
        "    - Похожим пользователям понравилось (vk)\n",
        "    - Вы можете быть знакомы (vk, facebook)\n",
        "    \n",
        "**Рекомендация дополнительного товара**. Дан 1 товар. Найти товары, которые покупают вместе с этим товаром\n",
        "    - С этим товаром часто покупают (Я.Маркет, Ozon, М.Видео)\n",
        "    \n",
        "   \n",
        "---\n",
        "На 7 вебинаре мы разберем рекомендательные системы из HeadHunter"
      ]
    },
    {
      "cell_type": "markdown",
      "metadata": {
        "id": "4qVx3IG0o1hZ"
      },
      "source": [
        "---"
      ]
    },
    {
      "cell_type": "markdown",
      "metadata": {
        "id": "8VrZhsIbo1ha"
      },
      "source": [
        "# 2. ML-mетрики качества"
      ]
    },
    {
      "cell_type": "markdown",
      "metadata": {
        "id": "0dnPDNLYo1hc"
      },
      "source": [
        "*Хороши ли рекомендации, предлагаемые моделью?*  \n",
        "Обычно считаются для каждого юзера, затем усредняются по юзерам"
      ]
    },
    {
      "cell_type": "markdown",
      "metadata": {
        "id": "VrlXLSNao1he"
      },
      "source": [
        "Представим, что в магазине всего 10 товаров"
      ]
    },
    {
      "cell_type": "code",
      "execution_count": null,
      "metadata": {
        "id": "bxqcDo_vo1hh"
      },
      "outputs": [],
      "source": [
        "# список товаров, которые мы порекомендуем пользователю в заданном порядке\n",
        "recommended_list = [143, 156, 1134, 991, 27, 1543, 3345, 533, 11, 43] #id товаров\n",
        "\n",
        "# юзер 1 купил данные товары\n",
        "bought_list = [521, 32, 143, 991]"
      ]
    },
    {
      "cell_type": "markdown",
      "metadata": {
        "id": "IZ6mlwcSo1hn"
      },
      "source": [
        "### 1. Hit rate\n",
        "\n",
        "Hit rate = был ли хотя бы 1 релевантный товар среди рекомендованных\n",
        "\n",
        "- Иногда применяется, когда продаются достаточно дорогие товары (например, бытовая техника) \n",
        "\n",
        "----\n",
        "Hit rate = (был ли хотя бы 1 релевантный товар среди рекомендованных)   \n",
        "\n",
        "Hit rate@k = (был ли хотя бы 1 релевантный товар среди топ-k рекомендованных)"
      ]
    },
    {
      "cell_type": "code",
      "execution_count": null,
      "metadata": {
        "id": "UdC9moeIo1ho"
      },
      "outputs": [],
      "source": [
        "def hit_rate(recommended_list, bought_list):\n",
        "    bought_list = np.array(bought_list)\n",
        "    recommended_list = np.array(recommended_list)\n",
        "    \n",
        "    flags = np.isin(bought_list, recommended_list)\n",
        "    return (flags.sum() > 0) * 1"
      ]
    },
    {
      "cell_type": "code",
      "execution_count": null,
      "metadata": {
        "id": "TuvrONZO1f6G"
      },
      "outputs": [],
      "source": [
        "\n",
        "def hit_rate_at_k(recommended_list, bought_list, k=5):\n",
        "#   сделать в домашней работе\n",
        "    return hit_rate(recommended_list[:k], bought_list)"
      ]
    },
    {
      "cell_type": "code",
      "execution_count": null,
      "metadata": {
        "id": "NuKv5Azd1f6H"
      },
      "outputs": [],
      "source": [
        "recommended_list = [143,156, 1134, 27, 1543, 3345, 533, 11, 43] #id товаров\n",
        "bought_list = [521, 32, 143, 991]"
      ]
    },
    {
      "cell_type": "code",
      "execution_count": null,
      "metadata": {
        "id": "cQXLlorio1hs",
        "colab": {
          "base_uri": "https://localhost:8080/"
        },
        "outputId": "1a14127e-0c6c-4ce5-8818-0297c19605a7"
      },
      "outputs": [
        {
          "output_type": "execute_result",
          "data": {
            "text/plain": [
              "1"
            ]
          },
          "metadata": {},
          "execution_count": 16
        }
      ],
      "source": [
        "hit_rate(recommended_list, bought_list)"
      ]
    },
    {
      "cell_type": "code",
      "source": [
        "hit_rate_at_k(recommended_list, bought_list, k=5)"
      ],
      "metadata": {
        "colab": {
          "base_uri": "https://localhost:8080/"
        },
        "id": "0W1zOXnkhxME",
        "outputId": "0d9977ca-0a29-40b3-ee5c-e30f131d631b"
      },
      "execution_count": null,
      "outputs": [
        {
          "output_type": "execute_result",
          "data": {
            "text/plain": [
              "1"
            ]
          },
          "metadata": {},
          "execution_count": 17
        }
      ]
    },
    {
      "cell_type": "markdown",
      "metadata": {
        "id": "iwXCUigno1hy"
      },
      "source": [
        "### 2. Precision\n",
        "\n",
        "*Precision* - доля релевантных товаров среди рекомендованных = Какой % рекомендованных товаров  юзер купил\n",
        "\n",
        "- Пожалуй, самая приближенная к бизнес-метрикам и самая популярная метрика\n",
        "\n",
        "---\n",
        "\n",
        "Precision= (# of recommended items that are relevant) / (# of recommended items)  \n",
        "\n",
        "Precision@k = (# of recommended items @k that are relevant) / (# of recommended items @k)\n",
        "\n",
        "Money Precision@k = (revenue of recommended items @k that are relevant) / (revenue of recommended items @k)  \n",
        "\n",
        "**Note:** Обычно k в precision@k достаточно невелико (5-20) и определяется из бизнес-логики. Например, 5 товаров в e-mail рассылке, 20 ответов на первой странице google и т.д"
      ]
    },
    {
      "cell_type": "markdown",
      "metadata": {
        "id": "WvSzvvmMo1hz"
      },
      "source": [
        "Красная рыба - 400 руб  \n",
        "Молоко - 60 руб  \n",
        "Хлеб = 40 руб  \n",
        "Гречка = 40 руб  \n",
        "Шоколад = 90 руб  \n",
        "\n",
        "------  \n",
        "Варенье - 240 руб  \n",
        "...  \n",
        "\n",
        "**Case 1**  \n",
        "prices_resommended = [400, 60, 40, 40 , 90]  \n",
        "flags = [1, 0, 0, 0 , 1]  \n",
        "\n",
        "$precison@5 = \\frac{1 + 0 + 0 +0 + 1}{1+1+1+1+1} = 40\\%$  \n",
        "$money precision@5 = \\frac{1*400 + 0*60 + ... + 1*90}{1*400 + 1*60 + ... + 1*90} = 77.7\\%$  \n",
        "\n",
        "  \n",
        "**Case 2**   \n",
        "prices_resommended = [400, 60, 40, 40 , 90]  \n",
        "flags = [0, 1, 0, 0 , 1]  \n",
        "\n",
        "$precison@5 = \\frac{0 + 1 + 0 +0 + 1}{1+1+1+1+1} = 40\\%$  \n",
        "$money precision@5 = \\frac{0*400 + 1*60 + ... + 1*90}{1*400 + 1*60 + ... + 1*90} = 15.8\\%$"
      ]
    },
    {
      "cell_type": "code",
      "execution_count": null,
      "metadata": {
        "id": "LyJIkQXl1f6O"
      },
      "outputs": [],
      "source": [
        "recommended_list = [2,3,8,6,9,2,5,10] #id товаров\n",
        "bought_list = [1,5,6]"
      ]
    },
    {
      "cell_type": "code",
      "execution_count": null,
      "metadata": {
        "id": "bDZRoYivo1h1"
      },
      "outputs": [],
      "source": [
        "def precision(recommended_list, bought_list):\n",
        "    \n",
        "    bought_list = np.array(bought_list)\n",
        "    recommended_list = np.array(recommended_list)\n",
        "    \n",
        "    flags = np.isin(bought_list, recommended_list)\n",
        "    return flags.sum() / len(recommended_list)"
      ]
    },
    {
      "cell_type": "code",
      "execution_count": null,
      "metadata": {
        "id": "7hMyan0E1f6Q",
        "colab": {
          "base_uri": "https://localhost:8080/"
        },
        "outputId": "467e7c84-50af-4135-802a-e1b60256779b"
      },
      "outputs": [
        {
          "output_type": "execute_result",
          "data": {
            "text/plain": [
              "0.25"
            ]
          },
          "metadata": {},
          "execution_count": 20
        }
      ],
      "source": [
        "precision(recommended_list, bought_list)"
      ]
    },
    {
      "cell_type": "code",
      "execution_count": null,
      "metadata": {
        "id": "DAZJ0Moy1f6S"
      },
      "outputs": [],
      "source": [
        "def precision_at_k(recommended_list, bought_list, k=5):\n",
        "    return precision(recommended_list[:k], bought_list)"
      ]
    },
    {
      "cell_type": "code",
      "execution_count": null,
      "metadata": {
        "id": "rfL2QSH1o1h5",
        "colab": {
          "base_uri": "https://localhost:8080/"
        },
        "outputId": "ee10c057-0577-4c5b-e0de-19e2ab484b74"
      },
      "outputs": [
        {
          "output_type": "execute_result",
          "data": {
            "text/plain": [
              "0.0"
            ]
          },
          "metadata": {},
          "execution_count": 22
        }
      ],
      "source": [
        "precision_at_k(recommended_list, bought_list, k=3)"
      ]
    },
    {
      "cell_type": "code",
      "execution_count": null,
      "metadata": {
        "id": "35CJV2C7o1iB"
      },
      "outputs": [],
      "source": [
        "def money_precision_at_k(recommended_list, bought_list, prices_recommended, k=5):\n",
        "    \n",
        "    recommend_list = np.array(recommended_list)[:k]\n",
        "    prices_recommended = np.array(prices_recommended)[:k]\n",
        "    \n",
        "    flags = np.isin(recommend_list, bought_list)\n",
        "    \n",
        "    precision = np.dot(flags, prices_recommended).sum() / prices_recommended.sum()\n",
        "    \n",
        "    return precision"
      ]
    },
    {
      "cell_type": "code",
      "execution_count": null,
      "metadata": {
        "id": "XBPLzWLV1f6V",
        "colab": {
          "base_uri": "https://localhost:8080/"
        },
        "outputId": "d0c74995-07e8-4d96-94e4-f011fba133dd"
      },
      "outputs": [
        {
          "output_type": "execute_result",
          "data": {
            "text/plain": [
              "0.01966982788900597"
            ]
          },
          "metadata": {},
          "execution_count": 24
        }
      ],
      "source": [
        "prices = [23,2233,534,56,1]\n",
        "money_precision_at_k(recommended_list, bought_list, prices)"
      ]
    },
    {
      "cell_type": "markdown",
      "metadata": {
        "id": "NfVd3dnCo1iN"
      },
      "source": [
        "### 3. Recall\n",
        "\n",
        "*Recall* - доля рекомендованных товаров среди релевантных = Какой % купленных товаров был среди рекомендованных\n",
        "\n",
        "- Обычно используется для моделей пре-фильтрации товаров (убрать те товары, которые точно не будем рекомендовать)\n",
        "\n",
        "---\n",
        "\n",
        "Recall= (# of recommended items that are relevant) / (# of relevant items)  \n",
        "\n",
        "Recall@k = (# of recommended items @k that are relevant) / (# of relevant items)\n",
        "\n",
        "Money Recall@k = (revenue of recommended items @k that are relevant) / (revenue of relevant items)  \n",
        "\n",
        "    \n",
        "  \n",
        "**Note:** в recall@k число k обычно достаточно большое (50-200), больше чем покупок у среднестатистического юзера"
      ]
    },
    {
      "cell_type": "code",
      "execution_count": null,
      "metadata": {
        "id": "g2sl_HTfo1iS"
      },
      "outputs": [],
      "source": [
        "def recall(recommended_list, bought_list):\n",
        "    \n",
        "    bought_list = np.array(bought_list)\n",
        "    recommended_list = np.array(recommended_list)\n",
        "    \n",
        "    flags = np.isin(bought_list, recommended_list)\n",
        "    return flags.sum() / len(bought_list)\n",
        "    \n",
        "\n",
        "def recall_at_k(recommended_list, bought_list, k=5):\n",
        "    pass\n",
        "#    сделать дома\n",
        "    return recall(recommended_list[:k], bought_list)\n",
        "\n",
        "\n",
        "def money_recall_at_k(recommended_list, bought_list, prices_recommended, prices_bought, k=5):\n",
        "    pass\n",
        "    # сделать дома\n",
        "    recommend_list = np.array(recommended_list)[:k]\n",
        "    prices_recommended = np.array(prices_recommended)[:k]\n",
        "    prices_bought = np.array(prices_bought)\n",
        "    \n",
        "    flags = np.isin(bought_list, recommended_list)\n",
        "    \n",
        "    recall = np.dot(flags, prices_recommended).sum() / prices_bought.sum()\n",
        "    \n",
        "    return recall"
      ]
    },
    {
      "cell_type": "code",
      "source": [
        "recommended_list = [2, 3, 8, 6, 9, 2, 5, 10] #id товаров\n",
        "bought_list = [1, 5, 6, 8, 12]\n",
        "price_list = [23, 2233, 534, 56, 1]\n",
        "price_bought_list = [59, 10, 56, 534, 188]"
      ],
      "metadata": {
        "id": "SBTDMIGnqfce"
      },
      "execution_count": null,
      "outputs": []
    },
    {
      "cell_type": "code",
      "execution_count": null,
      "metadata": {
        "id": "kd4I_xqvo1iX",
        "colab": {
          "base_uri": "https://localhost:8080/"
        },
        "outputId": "4a2c3950-97cd-4010-bcb6-c1d2561e89f8"
      },
      "outputs": [
        {
          "output_type": "execute_result",
          "data": {
            "text/plain": [
              "0.6"
            ]
          },
          "metadata": {},
          "execution_count": 43
        }
      ],
      "source": [
        "recall(recommended_list, bought_list)"
      ]
    },
    {
      "cell_type": "code",
      "execution_count": null,
      "metadata": {
        "id": "q7oHqj_21f6Y",
        "colab": {
          "base_uri": "https://localhost:8080/"
        },
        "outputId": "dcffba7b-b33c-4cc6-a976-ceab7d932ea4"
      },
      "outputs": [
        {
          "output_type": "execute_result",
          "data": {
            "text/plain": [
              "0.6"
            ]
          },
          "metadata": {},
          "execution_count": 44
        }
      ],
      "source": [
        "recall_at_k(recommended_list,bought_list,k=100)"
      ]
    },
    {
      "cell_type": "code",
      "source": [
        "money_recall_at_k(recommended_list, bought_list, price_list, price_bought_list)"
      ],
      "metadata": {
        "colab": {
          "base_uri": "https://localhost:8080/"
        },
        "id": "uWyVItxbrtpw",
        "outputId": "08180e6a-5f7b-48f8-e071-dfd74cc2af4a"
      },
      "execution_count": null,
      "outputs": [
        {
          "output_type": "execute_result",
          "data": {
            "text/plain": [
              "3.332939787485242"
            ]
          },
          "metadata": {},
          "execution_count": 42
        }
      ]
    },
    {
      "cell_type": "markdown",
      "metadata": {
        "id": "A-9Go3EOo1ib"
      },
      "source": [
        "---"
      ]
    },
    {
      "cell_type": "markdown",
      "metadata": {
        "id": "p06Ri8-go1ic"
      },
      "source": [
        "# Метрики ранжирования"
      ]
    },
    {
      "cell_type": "markdown",
      "metadata": {
        "id": "xdFxrRDv1f6b"
      },
      "source": [
        "Metrics: https://en.wikipedia.org/wiki/Evaluation_measures_(information_retrieval)"
      ]
    },
    {
      "cell_type": "markdown",
      "metadata": {
        "id": "Rnd4DCp5o1id"
      },
      "source": [
        "Если важен порядок рекомендаций."
      ]
    },
    {
      "cell_type": "markdown",
      "metadata": {
        "id": "F95YT0wwo1id"
      },
      "source": [
        "## AP@k\n",
        "AP@k - average precision at k\n",
        "\n",
        "$$AP@k = \\frac{1}{r} \\sum{[recommended_{relevant_i}] * precision@k}$$\n",
        "\n",
        "- r - кол-во релевантный среди рекомендованных\n",
        "- Суммируем по всем релевантным товарам\n",
        "- Зависит от порядка рекомендаций"
      ]
    },
    {
      "cell_type": "code",
      "execution_count": null,
      "metadata": {
        "id": "fSjQJbPj1f6c"
      },
      "outputs": [],
      "source": [
        "recommended_list = [22, 21, 4, 1, 234, 232432,234234,666] #id товаров\n",
        "bought_list = [1, 221, 3, 4,]"
      ]
    },
    {
      "cell_type": "code",
      "execution_count": null,
      "metadata": {
        "id": "zMGW-Zd51f6c"
      },
      "outputs": [],
      "source": [
        "def ap_k(recommended_list, bought_list, k=5):\n",
        "    \n",
        "    bought_list = np.array(bought_list)\n",
        "    recommended_list = np.array(recommended_list)[:k]\n",
        "    \n",
        "    relevant_indexes = np.nonzero(np.isin(recommended_list, bought_list))[0]\n",
        "    if len(relevant_indexes) == 0:\n",
        "        return 0\n",
        "    \n",
        "    amount_relevant = len(relevant_indexes)\n",
        "            \n",
        "    sum_ = sum([precision_at_k(recommended_list, bought_list, k=index_relevant+1) for index_relevant in relevant_indexes])\n",
        "    return sum_/amount_relevant\n",
        "  \n",
        "    "
      ]
    },
    {
      "cell_type": "code",
      "execution_count": null,
      "metadata": {
        "id": "KsF7cEKi1f6e",
        "colab": {
          "base_uri": "https://localhost:8080/"
        },
        "outputId": "2570a1fb-fa7e-4389-e39e-0e8c2c036e2f"
      },
      "outputs": [
        {
          "output_type": "execute_result",
          "data": {
            "text/plain": [
              "0.41666666666666663"
            ]
          },
          "metadata": {},
          "execution_count": 47
        }
      ],
      "source": [
        "ap_k(recommended_list, bought_list, k=5)"
      ]
    },
    {
      "cell_type": "markdown",
      "metadata": {
        "id": "GyKVp_A_o1ip"
      },
      "source": [
        "### MAP@k\n",
        "\n",
        "MAP@k (Mean Average Precision@k)  \n",
        "Среднее AP@k по всем юзерам\n",
        "- Показывает средневзвешенную точность рекомендаций\n",
        "\n",
        "$$MAP@k = \\frac{1}{|U|} \\sum_u{AP_k}$$\n",
        "  \n",
        "|U| - кол-во юзеров"
      ]
    },
    {
      "cell_type": "code",
      "execution_count": null,
      "metadata": {
        "id": "cBtbfN3M1f6f"
      },
      "outputs": [],
      "source": [
        "# теперь список из 3 пользователей\n",
        "recommended_list_3_users = [[143, 156, 1134, 991, 27, 1543, 3345, 533, 11, 43], \n",
        "                    [1134, 533, 14, 4, 15, 1543, 1, 99, 27, 3345],\n",
        "                    [991, 3345, 27, 533, 43, 143, 1543, 156, 1134, 11]\n",
        "                    ]\n",
        "\n",
        "bought_list_3_users = [[521, 32, 143],  # юзер 1\n",
        "                       [143, 156, 991, 43, 11], # юзер 2\n",
        "                       [1,2]] # юзер 3"
      ]
    },
    {
      "cell_type": "code",
      "execution_count": null,
      "metadata": {
        "id": "heZq-3_Vo1iq"
      },
      "outputs": [],
      "source": [
        "def map_k(recommended_list, bought_list, k=5):\n",
        "    \n",
        "    # сделать дома\n",
        "    i = 0\n",
        "    result = 0\n",
        "    while i < len(recommended_list):\n",
        "      recommended_list_1 = recommended_list[i]\n",
        "      bought_list_1 = bought_list[i]\n",
        "      temp = ap_k(recommended_list_1, bought_list_1, k=5)\n",
        "      result += temp\n",
        "      i += 1\n",
        "    \n",
        "    return result / len(recommended_list)"
      ]
    },
    {
      "cell_type": "code",
      "source": [
        "map_k(recommended_list_3_users, bought_list_3_users)"
      ],
      "metadata": {
        "colab": {
          "base_uri": "https://localhost:8080/"
        },
        "id": "YfcfoTNV0rLh",
        "outputId": "74a9b73a-ecf0-4807-e8bf-61a385503482"
      },
      "execution_count": null,
      "outputs": [
        {
          "output_type": "execute_result",
          "data": {
            "text/plain": [
              "0.3333333333333333"
            ]
          },
          "metadata": {},
          "execution_count": 126
        }
      ]
    },
    {
      "cell_type": "markdown",
      "metadata": {
        "id": "Ziy893rxo1iw"
      },
      "source": [
        "### AUC@k\n",
        "AUC для первых k наблюдений  \n",
        "- Можно посчитать как sklern.metrics.roc_auc_score для топ-k предсказаний\n",
        "- Показывает долю верно отранжированных товаров"
      ]
    },
    {
      "cell_type": "markdown",
      "metadata": {
        "id": "-aRUBub7o1ix"
      },
      "source": [
        "### Normalized discounted cumulative gain ( NDCG@k)\n",
        "\n",
        "\n",
        "$$DCG = \\frac{1}{|r|} \\sum_u{\\frac{[bought fact]}{discount(i)}}$$  \n",
        "\n",
        "$discount(i) = i$ if $i <= 2$,   \n",
        "$discount(i) = log_2(i+1)$ if $i > 2$\n",
        "\n",
        "\n",
        "(!) Считаем для первых k рекоммендаций   \n",
        "(!) - существуют вариации с другими $discount(i)$  \n",
        "i - ранк рекомендованного товара  \n",
        "|r| - кол-во рекомендованных товаров \n",
        "\n",
        "$$NDCG = \\frac{DCG}{ideal DCG}$$\n"
      ]
    },
    {
      "cell_type": "markdown",
      "metadata": {
        "id": "zHpCD4lKo1i1"
      },
      "source": [
        "$DCG@5 = \\frac{1}{5}*(1 / 1 + 0 / 2 + 0 / log(3) + 1 / log(4) + 0 / log(5))$  \n",
        "$ideal DCG@5 = \\frac{1}{5}*(1 / 1 + 1 / 2 + 1 / log(3) + 1 / log(4) + 1 / log(5))$  \n",
        "\n",
        "$NDCG = \\frac{DCG}{ideal DCG}$"
      ]
    },
    {
      "cell_type": "code",
      "execution_count": null,
      "metadata": {
        "id": "1SVki6rW1f6i"
      },
      "outputs": [],
      "source": [
        "# по желанию\n",
        "def ndcg_at_k():\n",
        "    pass"
      ]
    },
    {
      "cell_type": "markdown",
      "metadata": {
        "id": "T7Y-Jtcdo1i6"
      },
      "source": [
        "### Mean Reciprocal Rank ( MRR@k )\n",
        "\n",
        "\n",
        "- Считаем для первых k рекоммендаций\n",
        "- Найти ранк первого релевантного предсказания $k_u$\n",
        "- Посчитать reciprocal rank = $\\frac{1}{k_u}$\n",
        "\n",
        "$$MRR = mean(\\frac{1}{k_u})$$"
      ]
    },
    {
      "cell_type": "code",
      "execution_count": null,
      "metadata": {
        "id": "jRGEMzgd1f6j"
      },
      "outputs": [],
      "source": [
        "def reciprocal_rank(recommended_list, bought_list, k=1):\n",
        "    # сделать дома\n",
        "    pass"
      ]
    },
    {
      "cell_type": "code",
      "execution_count": null,
      "metadata": {
        "id": "EzIr5m6K1f6j"
      },
      "outputs": [],
      "source": [
        "reciprocal_rank(recommended_list_3_users, bought_list_3_users, k=5)"
      ]
    },
    {
      "cell_type": "markdown",
      "metadata": {
        "id": "ZM-4TlgWo1i-"
      },
      "source": [
        "\n",
        "\n"
      ]
    },
    {
      "cell_type": "markdown",
      "metadata": {
        "id": "DlPGKta8o1i_"
      },
      "source": [
        "# 3. Связь бизнес-метрик, ML-метрик и функции потерь(loss)"
      ]
    },
    {
      "cell_type": "markdown",
      "metadata": {
        "id": "uOUGeoTco1i_"
      },
      "source": [
        "- **loss** - то, что оптимизирует модель (RMSE - Root Mean Squared Error)\n",
        "- **ML-метрика** - то, как мы измеряем качество на test (money precision@5)\n",
        "- **Бизнес-метрика** - то, что хочет оптимизировать бизнес (выручка)\n",
        "\n",
        "В идеале loss = ML-метрика = бизнес-метрика, но это возможно в очень редких случаях\n",
        "\n",
        "Надеемся, что:  \n",
        "    *Оптимизация loss --> рост ML-метрик --> рост бизнес-метрик*"
      ]
    },
    {
      "cell_type": "markdown",
      "metadata": {
        "id": "P9bMXLKro1jA"
      },
      "source": [
        "### Пример: рекомендательная система товаров на сайте  \n",
        "      \n",
        "На сайте есть баннер, на котором мы можем разместить 5 товаров. Надо порекомендовать эти 5 товаров персонально каждому юзеру\n",
        "\n",
        "*Шаг 1: Определим бизнес-метрику*  \n",
        "Бизнес хочет максимизировать выручку --> бизнес-метрика - **Выручка**  \n",
        "\n",
        "*Шаг 2: Разложим ее на составляющие*  \n",
        "Выручка =   \n",
        "       Средний чек * кол-во покупок =   \n",
        "       Средний чек * (число юзеров * конверсия из захода на сайт в заказ) =\n",
        "       Число юзеров * (Средний чек * конверсия из захода на сайт в заказ)\n",
        "       \n",
        "Рекомендательная система влияет только на (Средний чек * конверсия из захода на сайт в заказ).   \n",
        "Хорошим приближением этого является **money precision@5** - ML-метрика\n",
        "\n",
        "*Шаг 3: loss*  \n",
        "Это существенно сложнее. Персонализированные ML-модели не умеют напрямую оптимизировать конверсию. Стандартный loss - **RMSE**. Можно для начала попробовать его. \n",
        "\n",
        "P.S. Если вы хотите приблизить RMSE к money precision@5, то можно посчитать weighted RMSE, где вес каждого наблюдения = стоимость товара.   \n",
        "P.S.S. Про другие виды loss будет рассказано в курсе"
      ]
    },
    {
      "cell_type": "markdown",
      "metadata": {
        "id": "DpGfAnHQ1f6n"
      },
      "source": [
        "# Полезные ссылки"
      ]
    },
    {
      "cell_type": "markdown",
      "metadata": {
        "id": "8IFWBsRP1f6p"
      },
      "source": [
        "Статьи: https://docs.google.com/document/d/16L1u5zuQyT5rSAQNk2Q7Zk5KzqlPqWTpYa2cPK3QU0Y/edit?usp=sharing"
      ]
    },
    {
      "cell_type": "markdown",
      "metadata": {
        "id": "BKV5YaQN1f6p"
      },
      "source": [
        "# Домашнее задание \n",
        "\n",
        "**1) Приведите еще примеры метрик для оценки рекомендаций/ранжирования (можно взять из интернета, или ваши знания)**\n",
        "\n",
        "**2) Доделать все функции, где стоит комментарий \"сделать дома\"**"
      ]
    },
    {
      "cell_type": "code",
      "execution_count": null,
      "metadata": {
        "id": "eHAld4pq1f6p"
      },
      "outputs": [],
      "source": [
        ""
      ]
    }
  ],
  "metadata": {
    "colab": {
      "name": "homework_webinar_1.ipynb",
      "provenance": []
    },
    "kernelspec": {
      "display_name": "Python 3",
      "language": "python",
      "name": "python3"
    },
    "language_info": {
      "codemirror_mode": {
        "name": "ipython",
        "version": 3
      },
      "file_extension": ".py",
      "mimetype": "text/x-python",
      "name": "python",
      "nbconvert_exporter": "python",
      "pygments_lexer": "ipython3",
      "version": "3.8.8"
    }
  },
  "nbformat": 4,
  "nbformat_minor": 0
}